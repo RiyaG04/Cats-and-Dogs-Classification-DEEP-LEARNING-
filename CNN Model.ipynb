{
 "cells": [
  {
   "cell_type": "code",
   "execution_count": 1,
   "metadata": {},
   "outputs": [],
   "source": [
    "from keras.models import Sequential\n",
    "from keras.layers import Conv2D\n",
    "from keras.layers import MaxPooling2D\n",
    "from keras.layers import Flatten\n",
    "from keras.layers import Dense"
   ]
  },
  {
   "cell_type": "code",
   "execution_count": null,
   "metadata": {},
   "outputs": [],
   "source": []
  },
  {
   "cell_type": "code",
   "execution_count": 2,
   "metadata": {},
   "outputs": [],
   "source": [
    "CNN_Classifier=Sequential()"
   ]
  },
  {
   "cell_type": "code",
   "execution_count": 3,
   "metadata": {},
   "outputs": [],
   "source": [
    "#Step 1- Convolution\n",
    "CNN_Classifier.add(Conv2D(32,(3,3),input_shape=(64,64,3),activation='relu'))\n",
    "\n",
    "#Step 2- Pooling\n",
    "CNN_Classifier.add(MaxPooling2D(pool_size=(2,2)))\n",
    "\n",
    "#Step 3-Flattening\n",
    "CNN_Classifier.add(Flatten())\n",
    "\n",
    "#Step 4 - Full connection\n",
    "CNN_Classifier.add(Dense(units=128,activation='relu'))\n",
    "CNN_Classifier.add(Dense(units=1,activation='sigmoid'))\n",
    "\n",
    "#Compiling the CNN\n",
    "CNN_Classifier.compile(optimizer='adam',loss='binary_crossentropy',metrics=['accuracy'])\n"
   ]
  },
  {
   "cell_type": "code",
   "execution_count": 4,
   "metadata": {},
   "outputs": [],
   "source": [
    "from keras.preprocessing.image import ImageDataGenerator"
   ]
  },
  {
   "cell_type": "code",
   "execution_count": 5,
   "metadata": {},
   "outputs": [
    {
     "name": "stdout",
     "output_type": "stream",
     "text": [
      "Found 8000 images belonging to 2 classes.\n",
      "Found 2000 images belonging to 2 classes.\n"
     ]
    },
    {
     "name": "stderr",
     "output_type": "stream",
     "text": [
      "<ipython-input-5-6702d49880d1>:11: UserWarning: `Model.fit_generator` is deprecated and will be removed in a future version. Please use `Model.fit`, which supports generators.\n",
      "  CNN_Classifier.fit_generator(training_set,steps_per_epoch=8000,epochs=25,validation_data=test_set,validation_steps=2000)\n"
     ]
    },
    {
     "name": "stdout",
     "output_type": "stream",
     "text": [
      "Epoch 1/25\n",
      " 250/8000 [..............................] - ETA: 20:44 - loss: 0.7003 - accuracy: 0.5926WARNING:tensorflow:Your input ran out of data; interrupting training. Make sure that your dataset or generator can generate at least `steps_per_epoch * epochs` batches (in this case, 200000 batches). You may need to use the repeat() function when building your dataset.\n",
      "WARNING:tensorflow:Your input ran out of data; interrupting training. Make sure that your dataset or generator can generate at least `steps_per_epoch * epochs` batches (in this case, 2000 batches). You may need to use the repeat() function when building your dataset.\n",
      "8000/8000 [==============================] - 48s 6ms/step - loss: 0.7003 - accuracy: 0.5926 - val_loss: 0.6110 - val_accuracy: 0.6905\n"
     ]
    },
    {
     "data": {
      "text/plain": [
       "<keras.callbacks.History at 0x1f65977ec10>"
      ]
     },
     "execution_count": 5,
     "metadata": {},
     "output_type": "execute_result"
    }
   ],
   "source": [
    "train_datagen=ImageDataGenerator(rescale=1./255,shear_range=0.2,zoom_range=0.2,horizontal_flip=True)\n",
    "\n",
    "test_datagen=ImageDataGenerator(rescale=1./255)\n",
    "\n",
    "training_set=train_datagen.flow_from_directory('C:/Users/RIYA GUPTA/Downloads/dataset/dataset/training_set',target_size=(64,64),\n",
    "                                              batch_size=32,class_mode='binary')\n",
    "\n",
    "test_set=test_datagen.flow_from_directory('C:/Users/RIYA GUPTA/Downloads/dataset/dataset/test_set',target_size=(64,64),\n",
    "                                              batch_size=32,class_mode='binary')\n",
    "\n",
    "CNN_Classifier.fit_generator(training_set,steps_per_epoch=8000,epochs=25,validation_data=test_set,validation_steps=2000)\n"
   ]
  },
  {
   "cell_type": "code",
   "execution_count": 6,
   "metadata": {},
   "outputs": [
    {
     "name": "stdout",
     "output_type": "stream",
     "text": [
      "1/1 [==============================] - 0s 153ms/step\n",
      "1.0\n",
      "dog\n"
     ]
    }
   ],
   "source": [
    "import numpy as np\n",
    "#from keras.preprocessing import image\n",
    "from tensorflow.keras.utils import load_img, img_to_array\n",
    "test_image=load_img(\"C:/Users/RIYA GUPTA/Downloads/dataset/dataset/single_prediction/cat_or_dog_2.jpg\",target_size=(64,64))\n",
    "test_image=img_to_array(test_image)\n",
    "test_image=np.expand_dims(test_image,axis=0)\n",
    "result=CNN_Classifier.predict(test_image)\n",
    "training_set.class_indices\n",
    "print(result[0][0])\n",
    "if result[0][0]==1:\n",
    "    prediction='dog'\n",
    "    print(prediction)\n",
    "else:\n",
    "    prediction='cat'\n",
    "    print(prediction)"
   ]
  },
  {
   "cell_type": "code",
   "execution_count": 7,
   "metadata": {},
   "outputs": [
    {
     "name": "stdout",
     "output_type": "stream",
     "text": [
      "1/1 [==============================] - 0s 27ms/step\n",
      "1.0\n",
      "dog\n"
     ]
    }
   ],
   "source": [
    "import numpy as np\n",
    "#from keras.preprocessing import image\n",
    "from tensorflow.keras.utils import load_img, img_to_array\n",
    "test_image=load_img(\"C:/Users/RIYA GUPTA/Downloads/dataset/dataset/single_prediction/123.jpg\",target_size=(64,64))\n",
    "test_image=img_to_array(test_image)\n",
    "test_image=np.expand_dims(test_image,axis=0)\n",
    "result=CNN_Classifier.predict(test_image)\n",
    "training_set.class_indices\n",
    "print(result[0][0])\n",
    "if result[0][0]==1:\n",
    "    prediction='dog'\n",
    "    print(prediction)\n",
    "else:\n",
    "    prediction='cat'\n",
    "    print(prediction)"
   ]
  },
  {
   "cell_type": "code",
   "execution_count": 8,
   "metadata": {},
   "outputs": [
    {
     "name": "stdout",
     "output_type": "stream",
     "text": [
      "2.10.0\n"
     ]
    }
   ],
   "source": [
    "import keras\n",
    "print(keras.__version__)"
   ]
  },
  {
   "cell_type": "code",
   "execution_count": 9,
   "metadata": {},
   "outputs": [
    {
     "name": "stdout",
     "output_type": "stream",
     "text": [
      "2.10.0\n"
     ]
    }
   ],
   "source": [
    "import tensorflow\n",
    "print(tensorflow.__version__)"
   ]
  },
  {
   "cell_type": "code",
   "execution_count": null,
   "metadata": {},
   "outputs": [],
   "source": []
  }
 ],
 "metadata": {
  "kernelspec": {
   "display_name": "Python 3",
   "language": "python",
   "name": "python3"
  },
  "language_info": {
   "codemirror_mode": {
    "name": "ipython",
    "version": 3
   },
   "file_extension": ".py",
   "mimetype": "text/x-python",
   "name": "python",
   "nbconvert_exporter": "python",
   "pygments_lexer": "ipython3",
   "version": "3.8.5"
  }
 },
 "nbformat": 4,
 "nbformat_minor": 4
}
